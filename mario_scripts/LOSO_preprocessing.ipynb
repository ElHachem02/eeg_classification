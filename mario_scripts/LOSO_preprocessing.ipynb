{
 "cells": [
  {
   "cell_type": "code",
   "execution_count": 1,
   "metadata": {},
   "outputs": [],
   "source": [
    "import pandas as pd\n"
   ]
  },
  {
   "cell_type": "code",
   "execution_count": 2,
   "metadata": {},
   "outputs": [],
   "source": [
    "SAMPLING_RATE = 256\n",
    "SEED = 42\n",
    "labels_folder = \"/Users/peter/Documents/Academy/University/ETH/courses/ma_2/ai_project/EEG-Transformer/data/experiment/grouped_data/labels\"\n",
    "data_folder = \"/Users/peter/Documents/Academy/University/ETH/courses/ma_2/ai_project/EEG-Transformer/data/experiment/grouped_data/x_points\""
   ]
  },
  {
   "cell_type": "code",
   "execution_count": 3,
   "metadata": {},
   "outputs": [],
   "source": [
    "SEED = 42\n",
    "subjects = ['lea','finn','sarah', 'aurora', 'bjoern', 'derek', 'dimi', 'ronan'] # add all subjects here"
   ]
  },
  {
   "cell_type": "code",
   "execution_count": 4,
   "metadata": {},
   "outputs": [
    {
     "name": "stdout",
     "output_type": "stream",
     "text": [
      "lea\n",
      "finn\n",
      "sarah\n",
      "aurora\n",
      "bjoern\n",
      "derek\n",
      "dimi\n",
      "ronan\n"
     ]
    }
   ],
   "source": [
    "subj_data = {}\n",
    "for subj in subjects:\n",
    "    print(subj)\n",
    "    df = pd.read_csv(labels_folder+\"/events_\" + subj + \".txt\", delim_whitespace=True)\n",
    "    df = df[(df.number != \"condition\")]\n",
    "    subj_data[subj] = {}\n",
    "    subj_data[subj][\"labels\"] = df[\"number\"].to_numpy().astype(float)\n",
    "    subj_data[subj][\"timestamps\"] = df[\"type\"].to_numpy().astype(float)\n",
    "    if subj == 'aurora': # aurora is another format\n",
    "        df = pd.read_csv(data_folder+\"/\" + subj + \"_pre_processed_data.txt\", delim_whitespace=True)\n",
    "    else:\n",
    "        df = pd.read_csv(data_folder+\"/\" + subj + \"_pre_processed_data.txt\", delim_whitespace=False)\n",
    "    subj_data[subj][\"data\"] = df"
   ]
  },
  {
   "cell_type": "code",
   "execution_count": 5,
   "metadata": {},
   "outputs": [],
   "source": [
    "for x in subjects:\n",
    "    if subj_data[x]['labels'][0] != 100:\n",
    "        print (\"Something wrong with labels for \" + x)"
   ]
  },
  {
   "cell_type": "code",
   "execution_count": 6,
   "metadata": {},
   "outputs": [
    {
     "data": {
      "text/plain": [
       "'\\nRonan -> ([list of df], [list of labels])\\n'"
      ]
     },
     "execution_count": 6,
     "metadata": {},
     "output_type": "execute_result"
    }
   ],
   "source": [
    "def split_data(data, labels, timestamps):\n",
    "    def to_true_label(label):\n",
    "        if label == 100:\n",
    "            raise Exception(\"Must skip labels with value 100!\")\n",
    "        if label == 195:\n",
    "            return 1\n",
    "        if label == 196:\n",
    "            return 2\n",
    "        return 0\n",
    "    \n",
    "    x = []\n",
    "    y = []\n",
    "    start = timestamps[0]\n",
    "    for i, label in enumerate(labels):\n",
    "        if i == 0: continue\n",
    "        end = timestamps[i]\n",
    "        if label != 100:\n",
    "            x.append(data[int(start):int(end)])\n",
    "            y.append(to_true_label(label))\n",
    "        start = timestamps[i]\n",
    "    return (x,y)\n",
    "\n",
    "# Data will be fof the form\n",
    "'''\n",
    "Ronan -> ([list of df], [list of labels])\n",
    "'''"
   ]
  },
  {
   "cell_type": "code",
   "execution_count": 7,
   "metadata": {},
   "outputs": [],
   "source": [
    "processed_subjects = {}\n",
    "for s in subjects:\n",
    "    processed_subjects[s] = split_data(subj_data[s]['data'], subj_data[s]['labels'], subj_data[s]['timestamps'])\n",
    "\n",
    "    "
   ]
  },
  {
   "cell_type": "code",
   "execution_count": 8,
   "metadata": {},
   "outputs": [
    {
     "name": "stdout",
     "output_type": "stream",
     "text": [
      "Subject lea:\n",
      "Data of size 29\n",
      "Labels of size 29\n",
      "\n",
      "Subject finn:\n",
      "Data of size 29\n",
      "Labels of size 29\n",
      "\n",
      "Subject sarah:\n",
      "Data of size 30\n",
      "Labels of size 30\n",
      "\n",
      "Subject aurora:\n",
      "Data of size 29\n",
      "Labels of size 29\n",
      "\n",
      "Subject bjoern:\n",
      "Data of size 30\n",
      "Labels of size 30\n",
      "\n",
      "Subject derek:\n",
      "Data of size 30\n",
      "Labels of size 30\n",
      "\n",
      "Subject dimi:\n",
      "Data of size 29\n",
      "Labels of size 29\n",
      "\n",
      "Subject ronan:\n",
      "Data of size 30\n",
      "Labels of size 30\n",
      "\n"
     ]
    }
   ],
   "source": [
    "x_size = len(processed_subjects[subjects[0]][0])\n",
    "y_size = len(processed_subjects[subjects[0]][1])\n",
    "for s in subjects:\n",
    "    new_size_x = len(processed_subjects[s][0])\n",
    "    new_size_y = len(processed_subjects[s][1])\n",
    "    \n",
    "    print(f\"Subject {s}:\")\n",
    "    print(f\"Data of size {x_size}\")\n",
    "    print(f\"Labels of size {y_size}\\n\")\n",
    "        \n",
    "    x_size = new_size_x\n",
    "    y_size = new_size_y\n"
   ]
  },
  {
   "cell_type": "code",
   "execution_count": null,
   "metadata": {},
   "outputs": [],
   "source": []
  }
 ],
 "metadata": {
  "kernelspec": {
   "display_name": "Python 3",
   "language": "python",
   "name": "python3"
  },
  "language_info": {
   "codemirror_mode": {
    "name": "ipython",
    "version": 3
   },
   "file_extension": ".py",
   "mimetype": "text/x-python",
   "name": "python",
   "nbconvert_exporter": "python",
   "pygments_lexer": "ipython3",
   "version": "3.8.16"
  }
 },
 "nbformat": 4,
 "nbformat_minor": 2
}
