{
 "cells": [
  {
   "cell_type": "code",
   "execution_count": 1,
   "metadata": {},
   "outputs": [],
   "source": [
    "import numpy as np\n",
    "import pandas as pd\n",
    "import random\n",
    "import matplotlib.pyplot as plt\n",
    "import mne\n",
    "import seaborn as sns\n",
    "import nolds\n",
    "from scipy import stats\n",
    "from scipy.signal import welch\n",
    "from sklearn.model_selection import StratifiedKFold\n",
    "from sklearn.feature_selection import SelectFromModel\n",
    "from sklearn.utils.class_weight import compute_sample_weight\n",
    "from sklearn.svm import SVC\n",
    "from sklearn.impute import KNNImputer\n",
    "from sklearn.metrics import f1_score, balanced_accuracy_score, confusion_matrix, accuracy_score\n",
    "from sklearn.preprocessing import QuantileTransformer, StandardScaler\n",
    "from sklearn.ensemble import RandomForestClassifier, VotingClassifier\n",
    "from lightgbm import LGBMClassifier\n",
    "from xgboost import XGBClassifier\n",
    "from tqdm import tqdm"
   ]
  },
  {
   "cell_type": "code",
   "execution_count": 2,
   "metadata": {},
   "outputs": [],
   "source": [
    "SAMPLING_RATE = 256\n",
    "SEED = 42\n",
    "labels_folder = \"D:/Repos/reading_comprehension_EEG/our_data/labels\" # change to your folders\n",
    "data_folder = \"D:/Repos/reading_comprehension_EEG/our_data\""
   ]
  },
  {
   "cell_type": "code",
   "execution_count": 3,
   "metadata": {},
   "outputs": [],
   "source": [
    "SEED = 42\n",
    "subjects = ['lea','finn','sarah', 'aurora', 'bjoern', 'derek'] # add all subjects here"
   ]
  },
  {
   "cell_type": "code",
   "execution_count": 4,
   "metadata": {},
   "outputs": [
    {
     "name": "stdout",
     "output_type": "stream",
     "text": [
      "lea\n",
      "finn\n",
      "sarah\n",
      "aurora\n",
      "bjoern\n",
      "derek\n"
     ]
    }
   ],
   "source": [
    "subj_data = {}\n",
    "for subj in subjects:\n",
    "    print(subj)\n",
    "    df = pd.read_csv(labels_folder+\"/events_\" + subj + \".txt\", delim_whitespace=True)\n",
    "    df = df[(df.number != \"condition\")]\n",
    "    subj_data[subj] = {}\n",
    "    subj_data[subj][\"labels\"] = df[\"number\"].to_numpy().astype(float)\n",
    "    subj_data[subj][\"timestamps\"] = df[\"type\"].to_numpy().astype(float)\n",
    "    if subj == 'aurora': # aurora is another format\n",
    "        df = pd.read_csv(data_folder+\"/\" + subj + \"_pre_processed_data.txt\", delim_whitespace=True)\n",
    "    else:\n",
    "        df = pd.read_csv(data_folder+\"/\" + subj + \"_pre_processed_data.txt\", delim_whitespace=False)\n",
    "    subj_data[subj][\"data\"] = df"
   ]
  },
  {
   "cell_type": "code",
   "execution_count": 5,
   "metadata": {},
   "outputs": [],
   "source": [
    "for x in subjects:\n",
    "    if subj_data[x]['labels'][0] != 100 or subj_data[x]['labels'][1] == 100:\n",
    "        raise Exception(\"Something wrong with labels for \" + x)"
   ]
  },
  {
   "cell_type": "code",
   "execution_count": 6,
   "metadata": {},
   "outputs": [],
   "source": [
    "def split_data(data, labels, timestamps):\n",
    "    def to_true_label(label):\n",
    "        if label == 100:\n",
    "            raise Exception(\"Must skip labels with value 100!\")\n",
    "        if label == 195:\n",
    "            return 1\n",
    "        if label == 196:\n",
    "            return 2\n",
    "        return 0\n",
    "    \n",
    "    texts = []\n",
    "    x = []\n",
    "    y = []\n",
    "    start = timestamps[0]\n",
    "    for i, label in enumerate(labels):\n",
    "        if i == 0: continue\n",
    "        end = timestamps[i]\n",
    "        if label != 100:\n",
    "            x.append(data[int(start):int(end)])\n",
    "            y.append(to_true_label(label))\n",
    "        else:\n",
    "            texts.append((x,y))\n",
    "            x = []\n",
    "            y = []\n",
    "        start = timestamps[i]\n",
    "    texts.append((x,y))\n",
    "    if len(texts) != 3:\n",
    "        raise Exception(\"Texts must be 3, not \" + str(len(texts)))\n",
    "    return texts"
   ]
  },
  {
   "cell_type": "code",
   "execution_count": 7,
   "metadata": {},
   "outputs": [
    {
     "name": "stdout",
     "output_type": "stream",
     "text": [
      "lea\n",
      "finn\n",
      "sarah\n",
      "aurora\n",
      "bjoern\n",
      "derek\n"
     ]
    }
   ],
   "source": [
    "X1 = []\n",
    "X2 = []\n",
    "X3 = []\n",
    "y1 = []\n",
    "y2 = []\n",
    "y3 = []\n",
    "for subj in subjects:\n",
    "    print(subj)\n",
    "    texts = split_data(subj_data[subj]['data'], subj_data[subj]['labels'], subj_data[subj]['timestamps'])\n",
    "    X1 += texts[0][0]\n",
    "    y1 += texts[0][1]\n",
    "    X2 += texts[1][0]\n",
    "    y2 += texts[1][1]\n",
    "    X3 += texts[2][0]\n",
    "    y3 += texts[2][1]"
   ]
  }
 ],
 "metadata": {
  "kernelspec": {
   "display_name": "Python 3",
   "language": "python",
   "name": "python3"
  },
  "language_info": {
   "codemirror_mode": {
    "name": "ipython",
    "version": 3
   },
   "file_extension": ".py",
   "mimetype": "text/x-python",
   "name": "python",
   "nbconvert_exporter": "python",
   "pygments_lexer": "ipython3",
   "version": "3.8.5"
  }
 },
 "nbformat": 4,
 "nbformat_minor": 2
}
