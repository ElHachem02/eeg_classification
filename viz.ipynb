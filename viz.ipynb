{
 "cells": [
  {
   "cell_type": "code",
   "execution_count": null,
   "id": "179efaa1",
   "metadata": {},
   "outputs": [],
   "source": [
    "from utils import plot_log"
   ]
  },
  {
   "cell_type": "code",
   "execution_count": null,
   "id": "5c82c18a",
   "metadata": {},
   "outputs": [],
   "source": [
    "fp = 'logs/exp_4000_rdshift_5e-7.txt'\n",
    "plot_log(fp)"
   ]
  },
  {
   "cell_type": "code",
   "execution_count": null,
   "id": "94f2639e",
   "metadata": {},
   "outputs": [],
   "source": [
    "fp = 'logs/exp_4000_rdshift_drop_5e-6.txt'\n",
    "plot_log(fp)"
   ]
  },
  {
   "cell_type": "code",
   "execution_count": null,
   "id": "23070281",
   "metadata": {},
   "outputs": [],
   "source": [
    "fp = 'logs/exp_4000_drop_5e-6.txt'\n",
    "plot_log(fp)"
   ]
  }
 ],
 "metadata": {
  "kernelspec": {
   "display_name": "Python 3 (clean)",
   "language": "python",
   "name": "python3_clean"
  },
  "language_info": {
   "codemirror_mode": {
    "name": "ipython",
    "version": 3
   },
   "file_extension": ".py",
   "mimetype": "text/x-python",
   "name": "python",
   "nbconvert_exporter": "python",
   "pygments_lexer": "ipython3",
   "version": "3.9.5"
  }
 },
 "nbformat": 4,
 "nbformat_minor": 5
}
